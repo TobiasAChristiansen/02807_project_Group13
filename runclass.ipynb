{
 "cells": [
  {
   "cell_type": "code",
   "execution_count": null,
   "metadata": {},
   "outputs": [
    {
     "name": "stdout",
     "output_type": "stream",
     "text": [
      "Creating encoding table\n",
      "Fetching data\n",
      "Cropping data\n",
      "Given threshold: 0.99 filtered out combined_score values: 987.0 and below\n"
     ]
    },
    {
     "data": {
      "application/vnd.jupyter.widget-view+json": {
       "model_id": "47136f7f5b714645b33dd19e6218e53f",
       "version_major": 2,
       "version_minor": 0
      },
      "text/plain": [
       "Parsing data:   0%|          | 0/28688 [00:00<?, ?it/s]"
      ]
     },
     "metadata": {},
     "output_type": "display_data"
    },
    {
     "name": "stdout",
     "output_type": "stream",
     "text": [
      "Data loaded in var .vertices, with size: 0.003752mb\n",
      "NEW ITERATION --- Clusters left: 410 --- Cluster length: 5684 --- Finished clusters: 0 --- Latest cluster length: 0\n",
      "-----Density calculation-----\n",
      "-----GSEA-----\n",
      "NEW ITERATION --- Clusters left: 409 --- Cluster length: 3 --- Finished clusters: 1 --- Latest cluster length: 2\n",
      "-----Density calculation-----\n",
      "-----GSEA-----\n",
      "NEW ITERATION --- Clusters left: 408 --- Cluster length: 15 --- Finished clusters: 2 --- Latest cluster length: 2\n",
      "-----Density calculation-----\n",
      "-----Evaluate edge removal-----\n",
      "-----Finding edge to remove-----\n",
      "-----Mapping-----\n"
     ]
    }
   ],
   "source": [
    "import functions as f\n",
    "import constants as c\n",
    "import classes as cl\n",
    "\n",
    "a = cl.interaction_network(testdataset = True, threshold=0.99)\n",
    "a.create_encoding_dict()\n",
    "a.load_data()\n",
    "a.cluster()"
   ]
  }
 ],
 "metadata": {
  "kernelspec": {
   "display_name": "02450",
   "language": "python",
   "name": "python3"
  },
  "language_info": {
   "codemirror_mode": {
    "name": "ipython",
    "version": 3
   },
   "file_extension": ".py",
   "mimetype": "text/x-python",
   "name": "python",
   "nbconvert_exporter": "python",
   "pygments_lexer": "ipython3",
   "version": "3.8.18"
  }
 },
 "nbformat": 4,
 "nbformat_minor": 2
}
