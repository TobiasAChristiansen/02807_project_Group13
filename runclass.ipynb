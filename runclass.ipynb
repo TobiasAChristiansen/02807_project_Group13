{
 "cells": [
  {
   "cell_type": "code",
   "execution_count": null,
   "metadata": {},
   "outputs": [
    {
     "name": "stdout",
     "output_type": "stream",
     "text": [
      "Creating encoding table\n",
      "Fetching data\n",
      "Cropping data\n",
      "Given threshold: 0.9 filtered out combined_score values: 515.0 and below\n"
     ]
    },
    {
     "data": {
      "application/vnd.jupyter.widget-view+json": {
       "model_id": "b4dde9ffafa242c7b0cda1f848160ae0",
       "version_major": 2,
       "version_minor": 0
      },
      "text/plain": [
       "Parsing data:   0%|          | 0/292355 [00:00<?, ?it/s]"
      ]
     },
     "metadata": {},
     "output_type": "display_data"
    },
    {
     "name": "stdout",
     "output_type": "stream",
     "text": [
      "Data loaded in var .vertices, with size: 0.000632mb\n",
      "NEW ITERATION ----- Clusters left to process: 60 ----- Finished clusters: 0\n",
      "NEW ITERATION ----- Clusters left to process: 59 ----- Finished clusters: 1\n"
     ]
    },
    {
     "ename": "KeyboardInterrupt",
     "evalue": "",
     "output_type": "error",
     "traceback": [
      "\u001b[1;31m---------------------------------------------------------------------------\u001b[0m",
      "\u001b[1;31mKeyboardInterrupt\u001b[0m                         Traceback (most recent call last)",
      "Cell \u001b[1;32mIn[1], line 8\u001b[0m\n\u001b[0;32m      6\u001b[0m a\u001b[38;5;241m.\u001b[39mcreate_encoding_dict()\n\u001b[0;32m      7\u001b[0m a\u001b[38;5;241m.\u001b[39mload_data()\n\u001b[1;32m----> 8\u001b[0m \u001b[43ma\u001b[49m\u001b[38;5;241;43m.\u001b[39;49m\u001b[43mcluster\u001b[49m\u001b[43m(\u001b[49m\u001b[43m)\u001b[49m\n",
      "File \u001b[1;32mc:\\Users\\tobia\\Vs_code\\02807 Computational Tools for Data Science\\02807_project_Group13\\classes.py:393\u001b[0m, in \u001b[0;36minteraction_network.cluster\u001b[1;34m(self)\u001b[0m\n\u001b[0;32m    390\u001b[0m \u001b[38;5;66;03m#If it does not satisfy the density condition, we find an edge to cut\u001b[39;00m\n\u001b[0;32m    391\u001b[0m \u001b[38;5;28;01melse\u001b[39;00m:\n\u001b[0;32m    392\u001b[0m     copy_current_cluster \u001b[38;5;241m=\u001b[39m \u001b[38;5;28mself\u001b[39m\u001b[38;5;241m.\u001b[39mvertices[\u001b[38;5;241m0\u001b[39m]\u001b[38;5;241m.\u001b[39mcopy()\n\u001b[1;32m--> 393\u001b[0m     edge_to_remove \u001b[38;5;241m=\u001b[39m \u001b[38;5;28;43mself\u001b[39;49m\u001b[38;5;241;43m.\u001b[39;49m\u001b[43medge_to_remove\u001b[49m\u001b[43m(\u001b[49m\u001b[43m)\u001b[49m\n\u001b[0;32m    394\u001b[0m     \u001b[38;5;28mself\u001b[39m\u001b[38;5;241m.\u001b[39mcut_edge(\u001b[38;5;241m0\u001b[39m, edge_to_remove)\n\u001b[0;32m    396\u001b[0m     \u001b[38;5;66;03m#Check connectivity of the cluster\u001b[39;00m\n",
      "File \u001b[1;32mc:\\Users\\tobia\\Vs_code\\02807 Computational Tools for Data Science\\02807_project_Group13\\classes.py:371\u001b[0m, in \u001b[0;36minteraction_network.edge_to_remove\u001b[1;34m(self)\u001b[0m\n\u001b[0;32m    370\u001b[0m \u001b[38;5;28;01mdef\u001b[39;00m \u001b[38;5;21medge_to_remove\u001b[39m(\u001b[38;5;28mself\u001b[39m):\n\u001b[1;32m--> 371\u001b[0m     res \u001b[38;5;241m=\u001b[39m \u001b[38;5;28;43mself\u001b[39;49m\u001b[38;5;241;43m.\u001b[39;49m\u001b[43mevaluate_most_used_path\u001b[49m\u001b[43m(\u001b[49m\u001b[38;5;28;43mself\u001b[39;49m\u001b[38;5;241;43m.\u001b[39;49m\u001b[43mvertices\u001b[49m\u001b[43m[\u001b[49m\u001b[38;5;241;43m0\u001b[39;49m\u001b[43m]\u001b[49m\u001b[43m)\u001b[49m\n\u001b[0;32m    372\u001b[0m     res \u001b[38;5;241m=\u001b[39m \u001b[38;5;28mself\u001b[39m\u001b[38;5;241m.\u001b[39mseverance_score(res)\n\u001b[0;32m    373\u001b[0m     res \u001b[38;5;241m=\u001b[39m \u001b[38;5;28mself\u001b[39m\u001b[38;5;241m.\u001b[39mfind_edge_to_cut(res)\n",
      "File \u001b[1;32mc:\\Users\\tobia\\Vs_code\\02807 Computational Tools for Data Science\\02807_project_Group13\\classes.py:312\u001b[0m, in \u001b[0;36minteraction_network.evaluate_most_used_path\u001b[1;34m(self, cluster, debug_mode)\u001b[0m\n\u001b[0;32m    310\u001b[0m \u001b[38;5;28;01mif\u001b[39;00m debug_mode: \u001b[38;5;28mprint\u001b[39m(\u001b[38;5;124m\"\u001b[39m\u001b[38;5;124mInitializing MapReduce of shortest_path()...\u001b[39m\u001b[38;5;124m\"\u001b[39m) \u001b[38;5;66;03m#debug_mode\u001b[39;00m\n\u001b[0;32m    311\u001b[0m \u001b[38;5;28;01mfor\u001b[39;00m item \u001b[38;5;129;01min\u001b[39;00m cluster:\n\u001b[1;32m--> 312\u001b[0m     \u001b[38;5;28;43mself\u001b[39;49m\u001b[38;5;241;43m.\u001b[39;49m\u001b[43mshortest_path\u001b[49m\u001b[43m(\u001b[49m\u001b[43mitem\u001b[49m\u001b[43m)\u001b[49m\n\u001b[0;32m    313\u001b[0m \u001b[38;5;28;01mwith\u001b[39;00m multiprocessing\u001b[38;5;241m.\u001b[39mPool() \u001b[38;5;28;01mas\u001b[39;00m pool:\n\u001b[0;32m    314\u001b[0m     results \u001b[38;5;241m=\u001b[39m pool\u001b[38;5;241m.\u001b[39mmap(\u001b[38;5;28mself\u001b[39m\u001b[38;5;241m.\u001b[39mshortest_path, cluster)\n",
      "File \u001b[1;32mc:\\Users\\tobia\\Vs_code\\02807 Computational Tools for Data Science\\02807_project_Group13\\classes.py:279\u001b[0m, in \u001b[0;36minteraction_network.shortest_path\u001b[1;34m(self, vertex, debug_mode, method)\u001b[0m\n\u001b[0;32m    274\u001b[0m \u001b[38;5;28;01mfor\u001b[39;00m neighbor \u001b[38;5;129;01min\u001b[39;00m \u001b[38;5;28mself\u001b[39m\u001b[38;5;241m.\u001b[39mvertices[\u001b[38;5;241m0\u001b[39m][\u001b[38;5;28mint\u001b[39m(current_branch[\u001b[38;5;241m0\u001b[39m]\u001b[38;5;241m.\u001b[39msplit(\u001b[38;5;124m\"\u001b[39m\u001b[38;5;124m_\u001b[39m\u001b[38;5;124m\"\u001b[39m)[\u001b[38;5;241m-\u001b[39m\u001b[38;5;241m1\u001b[39m])]:\n\u001b[0;32m    275\u001b[0m \n\u001b[0;32m    276\u001b[0m     \u001b[38;5;66;03m# If the path doesn't loop, we add the neighbor to the current branch and check if it's a new shortest path\u001b[39;00m\n\u001b[0;32m    277\u001b[0m     \u001b[38;5;66;03m#Adding the neigbor\u001b[39;00m\n\u001b[0;32m    278\u001b[0m     new_path \u001b[38;5;241m=\u001b[39m [current_branch[\u001b[38;5;241m0\u001b[39m] \u001b[38;5;241m+\u001b[39m \u001b[38;5;124m\"\u001b[39m\u001b[38;5;124m_\u001b[39m\u001b[38;5;124m\"\u001b[39m \u001b[38;5;241m+\u001b[39m \u001b[38;5;28mstr\u001b[39m(neighbor), current_branch[\u001b[38;5;241m1\u001b[39m]]\n\u001b[1;32m--> 279\u001b[0m     start_end \u001b[38;5;241m=\u001b[39m f\u001b[38;5;241m.\u001b[39mlowest_first_from_to(\u001b[43mnew_path\u001b[49m\u001b[43m[\u001b[49m\u001b[38;5;241;43m0\u001b[39;49m\u001b[43m]\u001b[49m\u001b[38;5;241;43m.\u001b[39;49m\u001b[43msplit\u001b[49m\u001b[43m(\u001b[49m\u001b[38;5;124;43m\"\u001b[39;49m\u001b[38;5;124;43m_\u001b[39;49m\u001b[38;5;124;43m\"\u001b[39;49m\u001b[43m)\u001b[49m\u001b[43m[\u001b[49m\u001b[38;5;241;43m0\u001b[39;49m\u001b[43m]\u001b[49m, \u001b[38;5;28mstr\u001b[39m(neighbor))\n\u001b[0;32m    280\u001b[0m     new_path_split \u001b[38;5;241m=\u001b[39m new_path[\u001b[38;5;241m0\u001b[39m]\u001b[38;5;241m.\u001b[39msplit(\u001b[38;5;124m\"\u001b[39m\u001b[38;5;124m_\u001b[39m\u001b[38;5;124m\"\u001b[39m)\n\u001b[0;32m    281\u001b[0m     new_path[\u001b[38;5;241m1\u001b[39m] \u001b[38;5;241m=\u001b[39m new_path[\u001b[38;5;241m1\u001b[39m] \u001b[38;5;241m+\u001b[39m (\u001b[38;5;241m1\u001b[39m \u001b[38;5;241m-\u001b[39m \u001b[38;5;28mself\u001b[39m\u001b[38;5;241m.\u001b[39mvertices[\u001b[38;5;241m0\u001b[39m][\u001b[38;5;28mint\u001b[39m(new_path_split[\u001b[38;5;241m-\u001b[39m\u001b[38;5;241m2\u001b[39m])][\u001b[38;5;28mint\u001b[39m(new_path_split[\u001b[38;5;241m-\u001b[39m\u001b[38;5;241m1\u001b[39m])])\n",
      "\u001b[1;31mKeyboardInterrupt\u001b[0m: "
     ]
    }
   ],
   "source": [
    "import functions as f\n",
    "import constants as c\n",
    "import classes as cl\n",
    "\n",
    "a = cl.interaction_network(testdataset = True, threshold=0.99)\n",
    "a.create_encoding_dict()\n",
    "a.load_data()\n",
    "a.cluster()"
   ]
  }
 ],
 "metadata": {
  "kernelspec": {
   "display_name": "02450",
   "language": "python",
   "name": "python3"
  },
  "language_info": {
   "codemirror_mode": {
    "name": "ipython",
    "version": 3
   },
   "file_extension": ".py",
   "mimetype": "text/x-python",
   "name": "python",
   "nbconvert_exporter": "python",
   "pygments_lexer": "ipython3",
   "version": "3.8.18"
  }
 },
 "nbformat": 4,
 "nbformat_minor": 2
}
