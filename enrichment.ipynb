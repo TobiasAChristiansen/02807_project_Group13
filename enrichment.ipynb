{
 "cells": [
  {
   "cell_type": "markdown",
   "metadata": {},
   "source": [
    "#### Required libraries"
   ]
  },
  {
   "cell_type": "code",
   "execution_count": 10,
   "metadata": {},
   "outputs": [],
   "source": [
    "from gprofiler.gprofiler import GProfiler"
   ]
  },
  {
   "cell_type": "markdown",
   "metadata": {},
   "source": [
    "#### Using a dummy set of proteins"
   ]
  },
  {
   "cell_type": "code",
   "execution_count": 12,
   "metadata": {},
   "outputs": [],
   "source": [
    "p_seq = [\"CDC15\", \"SLK19\", \"CLB2\", \"NET1\", \"CDC14\", \"SIC1\", \"BUB2\", \"DBF2\", \"MOB1\", \"SPO12\", \"TEM1\"]"
   ]
  },
  {
   "cell_type": "markdown",
   "metadata": {},
   "source": [
    "#### Defining enrichment analysis function"
   ]
  },
  {
   "cell_type": "code",
   "execution_count": 13,
   "metadata": {},
   "outputs": [],
   "source": [
    "# Perform enrichment analysis on the protein list\n",
    "def enrichment_analysis(protein_list, organism = \"scerevisiae\", sign_level = 0.05):\n",
    "    \n",
    "    # Initialize GProfiler object\n",
    "    gp = GProfiler(return_dataframe=True)\n",
    "\n",
    "    #Generate GProfiler with the information from protein sequences and organism\n",
    "    results = gp.profile(\n",
    "        organism=organism,\n",
    "        query=protein_list,\n",
    "        sources=['GO:BP', 'GO:MF', 'GO:CC', 'KEGG', 'REAC'],  # Include GO (BP, MF, CC), KEGG, and Reactome\n",
    "        significance_threshold_method='fdr'  # FDR for multiple testing correction\n",
    "    )\n",
    "    \n",
    "    # Filter for significant results (adjust p-value threshold as needed)\n",
    "    significant_results = results[results['p_value'] < sign_level]\n",
    "    \n",
    "    return significant_results"
   ]
  },
  {
   "cell_type": "markdown",
   "metadata": {},
   "source": [
    "#### Testing the enrichment analysis"
   ]
  },
  {
   "cell_type": "code",
   "execution_count": 19,
   "metadata": {},
   "outputs": [
    {
     "name": "stdout",
     "output_type": "stream",
     "text": [
      "Significant enrichment terms found:\n",
      "\n",
      "Results from GO:BP:\n",
      "                                                  name       p_value  \\\n",
      "0                                    exit from mitosis  5.569109e-16   \n",
      "1                  mitotic cell cycle phase transition  8.912514e-16   \n",
      "2                          cell cycle phase transition  8.171816e-15   \n",
      "3                      regulation of exit from mitosis  1.361110e-14   \n",
      "4                             mitotic nuclear division  3.815448e-14   \n",
      "..                                                 ...           ...   \n",
      "279         protein localization to cell division site  4.172463e-02   \n",
      "280  negative regulation of cellular component orga...  4.319332e-02   \n",
      "282       positive regulation of developmental process  4.722677e-02   \n",
      "284           regulation of cellular catabolic process  4.902173e-02   \n",
      "285          positive regulation of organelle assembly  4.973730e-02   \n",
      "\n",
      "                                           description  \n",
      "0    \"The cell cycle transition where a cell leaves...  \n",
      "1    \"The cell cycle process by which a cell commit...  \n",
      "2    \"The cell cycle process by which a cell commit...  \n",
      "3    \"Any process involved in the progression from ...  \n",
      "4    \"A mitotic cell cycle process comprising the s...  \n",
      "..                                                 ...  \n",
      "279  \"A cellular protein localization process in wh...  \n",
      "280  \"Any process that stops, prevents, or reduces ...  \n",
      "282  \"Any process that activates or increases the r...  \n",
      "284  \"Any process that modulates the frequency, rat...  \n",
      "285  \"Any process that activates or increases the f...  \n",
      "\n",
      "[249 rows x 3 columns]\n",
      "\n",
      "Results from GO:MF:\n",
      "                                                  name   p_value  \\\n",
      "144                          enzyme regulator activity  0.003628   \n",
      "145                  protein kinase regulator activity  0.003628   \n",
      "146                          kinase regulator activity  0.003628   \n",
      "149              molecular function regulator activity  0.003879   \n",
      "205  cyclin-dependent protein serine/threonine kina...  0.017017   \n",
      "217                          enzyme activator activity  0.021746   \n",
      "249              molecular function activator activity  0.030053   \n",
      "268                          enzyme inhibitor activity  0.038066   \n",
      "278              molecular function inhibitor activity  0.039907   \n",
      "281                                    protein binding  0.044347   \n",
      "\n",
      "                                           description  \n",
      "144  \"Binds to and modulates the activity of an enz...  \n",
      "145  \"Modulates the activity of a protein kinase, a...  \n",
      "146  \"Modulates the activity of a kinase, an enzyme...  \n",
      "149  \"A molecular function regulator regulates the ...  \n",
      "205  \"Modulates the activity of a cyclin-dependent ...  \n",
      "217  \"Binds to and increases the activity of an enz...  \n",
      "249  \"A molecular function regulator that activates...  \n",
      "268  \"Binds to and stops, prevents or reduces the a...  \n",
      "278  \"A molecular function regulator that inhibits ...  \n",
      "281          \"Binding to a protein.\" [GOC:go_curators]  \n",
      "\n",
      "Results from GO:CC:\n",
      "                                             name       p_value  \\\n",
      "9                   microtubule organizing center  4.030487e-12   \n",
      "10                              spindle pole body  4.030487e-12   \n",
      "17                       microtubule cytoskeleton  3.002785e-10   \n",
      "26                                   cytoskeleton  1.813635e-08   \n",
      "34                                        spindle  7.184626e-07   \n",
      "49                              Sid2-Mob1 complex  2.345633e-05   \n",
      "51   intracellular non-membrane-bounded organelle  2.470428e-05   \n",
      "52                 non-membrane-bounded organelle  2.470428e-05   \n",
      "56                                   RENT complex  4.686971e-05   \n",
      "57                              cellular bud neck  5.770549e-05   \n",
      "70                                   spindle pole  6.267685e-05   \n",
      "80                                   cellular bud  1.581532e-04   \n",
      "81                    chromatin silencing complex  1.617962e-04   \n",
      "83                       site of polarized growth  2.012114e-04   \n",
      "124                     mitotic spindle pole body  1.111561e-03   \n",
      "185                             Bfa1-Bub2 complex  1.152468e-02   \n",
      "213                      GTPase activator complex  2.045709e-02   \n",
      "214       serine/threonine protein kinase complex  2.045709e-02   \n",
      "240                        protein kinase complex  2.506918e-02   \n",
      "251                      enzyme activator complex  3.214629e-02   \n",
      "253                chromosome, centromeric region  3.329854e-02   \n",
      "267                                     nucleolus  3.790023e-02   \n",
      "277                               spindle midzone  3.984209e-02   \n",
      "283                                 nuclear lumen  4.878607e-02   \n",
      "\n",
      "                                           description  \n",
      "9    \"An intracellular structure that can catalyze ...  \n",
      "10   \"The microtubule organizing center in fungi; f...  \n",
      "17   \"The part of the cytoskeleton (the internal fr...  \n",
      "26   \"A cellular structure that forms the internal ...  \n",
      "34   \"The array of microtubules and associated mole...  \n",
      "49   \"A protein complex that contains a protein kin...  \n",
      "51   \"Organized structure of distinctive morphology...  \n",
      "52   \"Organized structure of distinctive morphology...  \n",
      "56   \"A protein complex that mediates transcription...  \n",
      "57   \"The constriction between the mother cell and ...  \n",
      "70   \"Either of the ends of a spindle, where spindl...  \n",
      "80   \"A protuberance from a cell of an organism tha...  \n",
      "81   \"Any protein complex that mediates changes in ...  \n",
      "83   \"Any part of a cell where non-isotropic growth...  \n",
      "124  \"The microtubule organizing center that forms ...  \n",
      "185  \"A protein complex that acts as a two-componen...  \n",
      "213  \"A protein complex which is capable of GTPase ...  \n",
      "214  \"A protein complex which is capable of protein...  \n",
      "240  \"A protein complex which is capable of protein...  \n",
      "251  \"A protein complex capable of activating an en...  \n",
      "253  \"The region of a chromosome that includes the ...  \n",
      "267  \"A small, dense body one or more of which are ...  \n",
      "277  \"The area in the center of the spindle where t...  \n",
      "283  \"The volume enclosed by the nuclear inner memb...  \n",
      "\n",
      "Results from KEGG:\n",
      "                                           name       p_value  \\\n",
      "5                            Cell cycle - yeast  1.239708e-13   \n",
      "44   Hippo signaling pathway - multiple species  1.356294e-05   \n",
      "108                             Meiosis - yeast  4.673261e-04   \n",
      "\n",
      "                                    description  \n",
      "5                            Cell cycle - yeast  \n",
      "44   Hippo signaling pathway - multiple species  \n",
      "108                             Meiosis - yeast  \n"
     ]
    }
   ],
   "source": [
    "enrichment_results = enrichment_analysis(p_seq)\n",
    "\n",
    "if not enrichment_results.empty:\n",
    "    # Separate and print results by source\n",
    "    sources = ['GO:BP', 'GO:MF', 'GO:CC', 'KEGG', 'REAC']\n",
    "    print(\"Significant enrichment terms found:\")\n",
    "    for source in sources:\n",
    "        source_results = enrichment_results[enrichment_results['source'] == source]\n",
    "        if not source_results.empty:\n",
    "            print(f\"\\nResults from {source}:\")\n",
    "            print(source_results[['name', 'p_value', 'description']])\n",
    "else:\n",
    "    print(\"No significant enrichment terms found for the provided protein set.\")\n"
   ]
  }
 ],
 "metadata": {
  "kernelspec": {
   "display_name": "comp_tls",
   "language": "python",
   "name": "python3"
  },
  "language_info": {
   "codemirror_mode": {
    "name": "ipython",
    "version": 3
   },
   "file_extension": ".py",
   "mimetype": "text/x-python",
   "name": "python",
   "nbconvert_exporter": "python",
   "pygments_lexer": "ipython3",
   "version": "3.12.6"
  }
 },
 "nbformat": 4,
 "nbformat_minor": 2
}
