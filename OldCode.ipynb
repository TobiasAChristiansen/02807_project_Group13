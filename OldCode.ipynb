{
 "cells": [
  {
   "cell_type": "markdown",
   "metadata": {},
   "source": [
    "## OLD / OUTDATED CODE"
   ]
  },
  {
   "cell_type": "code",
   "execution_count": null,
   "metadata": {},
   "outputs": [],
   "source": [
    "\"\"\"\n",
    "Interaction dataset loaded for homo sapiens (HS) related data\n",
    "Saving data with int. ids from id_prot\n",
    "Raw Data has the headings: [protein1\tprotein2\tneighborhood\tfusion\tcooccurence\tcoexpression\texperimental\tdatabase\ttextmining\tcombined_score]\n",
    "\n",
    "Runtime\n",
    "Number of rows in HS protein links dataset: 13715404\n",
    "Chunksize; reading one line per value \n",
    "Runtime when chunksize=200000; \n",
    "\"\"\"\n",
    "chunksize = 200000\n",
    "LinesRead = 0 \n",
    "HS_int_df = pd.DataFrame() #df for storing\n",
    "id_prot = joblib.load(\"./joblib_vars/id_prot.joblib\")\n",
    "logfile = open(\"./logs/IntRawData_logs.txt\", \"w\")\n",
    "\n",
    "for chunk in pd.read_csv(\"https://stringdb-downloads.org/download/protein.links.detailed.v12.0/9606.protein.links.detailed.v12.0.txt.gz\", compression=\"gzip\", chunksize=chunksize, sep=\" \"):\n",
    "    print(f\"Time: {time.ctime(time.time())}\\tReading lines {LinesRead} - {LinesRead+chunksize}...\", file=logfile)\n",
    "    print(f\"Time: {time.ctime(time.time())}\\tReading lines {LinesRead} - {LinesRead+chunksize}...\")\n",
    "    chunk[\"protein1\"] = chunk[\"protein1\"].map(id_prot) #Changing names to id's using id_prot\n",
    "    chunk[\"protein2\"] = chunk[\"protein2\"].map(id_prot) #Changing names to id's using id_prot\n",
    "    HS_int_df = pd.concat([HS_int_df, chunk], axis=1)\n",
    "    LinesRead += chunksize\n",
    "    print(f\"Time: {time.ctime(time.time())}\\tLines read {LinesRead}/13,715,404\", file=logfile)\n",
    "    print(f\"Time: {time.ctime(time.time())}\\tLines read {LinesRead}/13,715,404\")\n",
    "\n",
    "joblib.dump(HS_int_df,\"./mod_data/HS_int_df.joblib\")\n",
    "logfile.close()"
   ]
  }
 ],
 "metadata": {
  "language_info": {
   "name": "python"
  }
 },
 "nbformat": 4,
 "nbformat_minor": 2
}
