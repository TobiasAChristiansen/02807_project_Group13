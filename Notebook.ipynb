{
 "cells": [
  {
   "cell_type": "markdown",
   "metadata": {},
   "source": [
    "## Loading packages, constants, and functions"
   ]
  },
  {
   "cell_type": "code",
   "execution_count": null,
   "metadata": {},
   "outputs": [
    {
     "name": "stderr",
     "output_type": "stream",
     "text": [
      "/Users/asbjornhansen/Library/Python/3.9/lib/python/site-packages/urllib3/__init__.py:35: NotOpenSSLWarning: urllib3 v2 only supports OpenSSL 1.1.1+, currently the 'ssl' module is compiled with 'LibreSSL 2.8.3'. See: https://github.com/urllib3/urllib3/issues/3020\n",
      "  warnings.warn(\n"
     ]
    },
    {
     "name": "stdout",
     "output_type": "stream",
     "text": [
      "Current directories in /Users/asbjornhansen/GitRep/02807_project_Group13-3\\\n",
      " ['joblib_vars', 'functions.py', 'modularity.ipynb', 'Notebook.ipynb', 'constants.py', 'runclass.ipynb', 'raw_data', '__pycache__', 'README.md', '.gitignore', 'OldCode_saveforReport.ipynb', 'enrichment.ipynb', 'classes.py', '.git', 'miserables.json']\n"
     ]
    }
   ],
   "source": [
    "import functions as f\n",
    "import constants as c\n",
    "import classes as cl\n",
    "\n",
    "import pandas as pd\n",
    "import os, joblib, time\n",
    "\n",
    "import netwulf as wulf\n",
    "import json\n",
    "print(f\"Current directories in {c.cwd}\\n {os.listdir()}\")\n",
    "\n",
    "long = c.cwd + \"\\\\raw_data\\\\long_alzheimers.tsv\"\n",
    "short = c.cwd + \"\\\\raw_data\\\\short_alzheimers.tsv\""
   ]
  },
  {
   "cell_type": "markdown",
   "metadata": {},
   "source": [
    "## Loading Datasets"
   ]
  },
  {
   "cell_type": "markdown",
   "metadata": {},
   "source": [
    "#### Creating id_prot and saving\n",
    "id_prot is a dictionary meant to point a id <integer> to a protein name <string> with 19 str characters \\\n",
    "id_prot is saved using joblib.dump() in dir \"joblib_vars\", and can be reloaded as a dict object using joblib.load(path)"
   ]
  },
  {
   "cell_type": "code",
   "execution_count": null,
   "metadata": {},
   "outputs": [],
   "source": [
    "chunksize = 10\n",
    "info_df = pd.read_csv(\"https://stringdb-downloads.org/download/protein.info.v12.0/9606.protein.info.v12.0.txt.gz\", compression='gzip', sep=\"\\t\")\n",
    "info_df = info_df[[\"#string_protein_id\"]].values\n",
    "id_prot = dict()\n",
    "for c, e in enumerate(info_df):\n",
    "    id_prot[c] = e[0]\n",
    "print(id_prot)\n",
    "joblib.dump(id_prot, \"./joblib_vars/id_prot.joblib\")"
   ]
  },
  {
   "cell_type": "markdown",
   "metadata": {},
   "source": [
    "#### Modifying raw datasets\n",
    "modified datasets are stored in \"/mod_data/\" for easy retrieval"
   ]
  },
  {
   "cell_type": "code",
   "execution_count": null,
   "metadata": {},
   "outputs": [],
   "source": [
    "\"\"\"\n",
    "An example of an interaction dataset loaded\n",
    "\"\"\"\n",
    "alz_int_df = pd.read_csv(\"./raw_data/long_alzheimers.tsv\", sep=\"\\t\")\n",
    "alz_int_df.columns = [\"Prot1_ShortName\", \"Prot2_ShortName\", \"protein1\", \"protein2\", \"col1\", \"col2\", \"col3\", \"col4\", \"col5\", \"col6\", \"col7\", \"col8\", \"col9\"]\n",
    "alz_int_df"
   ]
  },
  {
   "cell_type": "code",
   "execution_count": null,
   "metadata": {},
   "outputs": [],
   "source": [
    "HS_int_df = pd.read_csv(\"https://stringdb-downloads.org/download/protein.links.detailed.v12.0/9606.protein.links.detailed.v12.0.txt.gz\", compression=\"gzip\", sep=\" \")\n",
    "HS_int_df = HS_int_df[HS_int_df[\"experimental\"] > 0] #removing interactions with no experimental relevance \n",
    "#joblib.dump(HS_int_df, \"./joblib_vars/HS_int_df\") #FILE TOO LARGE \n",
    "HS_int_df\n"
   ]
  },
  {
   "cell_type": "markdown",
   "metadata": {},
   "source": [
    "Creating HS_int_simple, containing protein1 and protein2 names converted to int using id_prot. \\\n",
    "If all interactions are weight=1, only the names (ids) of the proteins are needed when constructing the interaction network"
   ]
  },
  {
   "cell_type": "code",
   "execution_count": 1,
   "metadata": {},
   "outputs": [
    {
     "ename": "NameError",
     "evalue": "name 'joblib' is not defined",
     "output_type": "error",
     "traceback": [
      "\u001b[1;31m---------------------------------------------------------------------------\u001b[0m",
      "\u001b[1;31mNameError\u001b[0m                                 Traceback (most recent call last)",
      "Input \u001b[1;32mIn [1]\u001b[0m, in \u001b[0;36m<cell line: 1>\u001b[1;34m()\u001b[0m\n\u001b[1;32m----> 1\u001b[0m id_prot \u001b[38;5;241m=\u001b[39m \u001b[43mjoblib\u001b[49m\u001b[38;5;241m.\u001b[39mload(\u001b[38;5;124m\"\u001b[39m\u001b[38;5;124m./joblib_vars/id_prot.joblib\u001b[39m\u001b[38;5;124m\"\u001b[39m)\n\u001b[0;32m      3\u001b[0m \u001b[38;5;66;03m#Swapping key value in dict\u001b[39;00m\n\u001b[0;32m      4\u001b[0m id_swap \u001b[38;5;241m=\u001b[39m \u001b[38;5;28mdict\u001b[39m()\n",
      "\u001b[1;31mNameError\u001b[0m: name 'joblib' is not defined"
     ]
    }
   ],
   "source": [
    "id_prot = joblib.load(\"./joblib_vars/id_prot.joblib\")\n",
    "\n",
    "#Swapping key value in dict\n",
    "id_swap = dict()\n",
    "for k, v in id_prot.items():\n",
    "    id_swap[str(v)] = k\n",
    "print(id_swap)\n",
    "\n",
    "#exporting modified HS_int\n",
    "HS_int_simple = HS_int_df.map(lambda x: id_swap[x] if x in id_swap else x).reset_index()\n",
    "HS_int_simple = HS_int_simple[[\"protein1\", \"protein2\"]]\n",
    "joblib.dump(HS_int_simple, \"./joblib_vars/HS_int_simple.joblib\")\n"
   ]
  },
  {
   "cell_type": "markdown",
   "metadata": {},
   "source": [
    "## Running the class"
   ]
  },
  {
   "cell_type": "markdown",
   "metadata": {},
   "source": [
    "### Setting the color of the progress bar"
   ]
  },
  {
   "cell_type": "code",
   "execution_count": 2,
   "metadata": {},
   "outputs": [
    {
     "data": {
      "text/html": [
       "<style>\n",
       ".cell-output-ipywidget-background {\n",
       "    background-color: transparent !important;\n",
       "}\n",
       ":root {\n",
       "    --jp-widgets-color: var(--vscode-editor-foreground);\n",
       "    --jp-widgets-font-size: var(--vscode-editor-font-size);\n",
       "}  \n",
       "</style>\n"
      ],
      "text/plain": [
       "<IPython.core.display.HTML object>"
      ]
     },
     "metadata": {},
     "output_type": "display_data"
    }
   ],
   "source": [
    "%%html\n",
    "<style>\n",
    ".cell-output-ipywidget-background {\n",
    "    background-color: transparent !important;\n",
    "}\n",
    ":root {\n",
    "    --jp-widgets-color: var(--vscode-editor-foreground);\n",
    "    --jp-widgets-font-size: var(--vscode-editor-font-size);\n",
    "}  \n",
    "</style>"
   ]
  },
  {
   "cell_type": "markdown",
   "metadata": {},
   "source": [
    "### Running the class"
   ]
  },
  {
   "cell_type": "code",
   "execution_count": 3,
   "metadata": {},
   "outputs": [
    {
     "name": "stdout",
     "output_type": "stream",
     "text": [
      "Creating encoding table\n",
      "Fetching data\n",
      "Cropping data\n",
      "Given threshold: 0.65 filtered out combined_score values: 310.0 and below\n"
     ]
    },
    {
     "data": {
      "application/vnd.jupyter.widget-view+json": {
       "model_id": "e399e9dab3994eeea040c6f0a25d6f03",
       "version_major": 2,
       "version_minor": 0
      },
      "text/plain": [
       "Parsing data:   0%|          | 0/78868 [00:00<?, ?it/s]"
      ]
     },
     "metadata": {},
     "output_type": "display_data"
    },
    {
     "name": "stdout",
     "output_type": "stream",
     "text": [
      "Data loaded in var .vertices, with size: 0.147552mb\n"
     ]
    }
   ],
   "source": [
    "a = cl.interaction_network(testdataset = True, threshold=0.65)\n",
    "a.create_encoding_dict()\n",
    "a.load_data()"
   ]
  },
  {
   "cell_type": "code",
   "execution_count": null,
   "metadata": {},
   "outputs": [],
   "source": [
    "#Example code for the format of a.vertices\n",
    "for root in a.vertices.keys():\n",
    "    print(\"root\", \"neighbor\", \"norm_score\")\n",
    "    for neighbor in a.vertices[root].keys():\n",
    "        print(root, neighbor, a.vertices[root][neighbor])\n",
    "    break"
   ]
  },
  {
   "cell_type": "code",
   "execution_count": 4,
   "metadata": {},
   "outputs": [
    {
     "data": {
      "application/vnd.jupyter.widget-view+json": {
       "model_id": "d8ce5ea04c764854bc7e29a1b438caf3",
       "version_major": 2,
       "version_minor": 0
      },
      "text/plain": [
       "Parsing encoding_edgesused data:   0%|          | 0/39434 [00:00<?, ?it/s]"
      ]
     },
     "metadata": {},
     "output_type": "display_data"
    }
   ],
   "source": [
    "edges_used = a.evaluate_most_used_path(a.vertices)"
   ]
  },
  {
   "cell_type": "code",
   "execution_count": 5,
   "metadata": {},
   "outputs": [
    {
     "name": "stdout",
     "output_type": "stream",
     "text": [
      "493 3044591\n",
      "979 2292854\n",
      "1444 1919756\n",
      "4668 1917023\n",
      "1497 1879340\n",
      "2434 1724455\n",
      "2059 1722026\n",
      "13809 1665673\n",
      "2249 1628455\n",
      "7685 1581202\n"
     ]
    }
   ],
   "source": [
    "edges_used = sorted(edges_used.items(), key = lambda x:x[1], reverse=True)\n",
    "for i in range(10):\n",
    "    print(edges_used[i][0], edges_used[i][1])"
   ]
  },
  {
   "cell_type": "code",
   "execution_count": null,
   "metadata": {},
   "outputs": [],
   "source": []
  },
  {
   "cell_type": "code",
   "execution_count": null,
   "metadata": {},
   "outputs": [],
   "source": [
    "# Example usage of check_connection\n",
    "vertexes = {\"A\": [\"B\", \"C\"],\n",
    "            \"B\": [\"A\", \"C\", \"D\"],\n",
    "            \"C\": [\"A\", \"B\"],\n",
    "            \"D\": [\"B\", \"E\"],\n",
    "            \"E\": [\"D\"],\n",
    "            \"F\": [\"G\"],\n",
    "            \"G\": [\"F\"]}\n",
    "\n",
    "is_connected, connected_vertices = check_connection(vertexes)\n",
    "print(\"The network is fully connected: {}\".format(is_connected))\n",
    "for i, group in enumerate(connected_vertices):\n",
    "    print(\"Grouped vertices {}:\".format(i+1))\n",
    "    print(group)"
   ]
  },
  {
   "cell_type": "markdown",
   "metadata": {},
   "source": [
    "## Graphing"
   ]
  },
  {
   "cell_type": "code",
   "execution_count": 20,
   "metadata": {},
   "outputs": [
    {
     "name": "stdout",
     "output_type": "stream",
     "text": [
      "{'nodes': [{'id': 'Myriel', 'size': 1}, {'id': 'Napoleon', 'size': 1}, {'id': 'Mlle.Baptistine', 'size': 1}, {'id': 'Mme.Magloire', 'size': 1}, {'id': 'CountessdeLo', 'size': 1}, {'id': 'Geborand', 'size': 1}, {'id': 'Champtercier', 'size': 1}, {'id': 'Cravatte', 'size': 1}, {'id': 'Count', 'size': 1}, {'id': 'OldMan', 'size': 1}, {'id': 'Labarre', 'size': 2}, {'id': 'Valjean', 'size': 2}, {'id': 'Marguerite', 'size': 3}, {'id': 'Mme.deR', 'size': 2}, {'id': 'Isabeau', 'size': 2}, {'id': 'Gervais', 'size': 2}, {'id': 'Tholomyes', 'size': 3}, {'id': 'Listolier', 'size': 3}, {'id': 'Fameuil', 'size': 3}, {'id': 'Blacheville', 'size': 3}, {'id': 'Favourite', 'size': 3}, {'id': 'Dahlia', 'size': 3}, {'id': 'Zephine', 'size': 3}, {'id': 'Fantine', 'size': 3}, {'id': 'Mme.Thenardier', 'size': 4}, {'id': 'Thenardier', 'size': 4}, {'id': 'Cosette', 'size': 5}, {'id': 'Javert', 'size': 4}, {'id': 'Fauchelevent', 'size': 0}, {'id': 'Bamatabois', 'size': 2}, {'id': 'Perpetue', 'size': 3}, {'id': 'Simplice', 'size': 2}, {'id': 'Scaufflaire', 'size': 2}, {'id': 'Woman1', 'size': 2}, {'id': 'Judge', 'size': 2}, {'id': 'Champmathieu', 'size': 2}, {'id': 'Brevet', 'size': 2}, {'id': 'Chenildieu', 'size': 2}, {'id': 'Cochepaille', 'size': 2}, {'id': 'Pontmercy', 'size': 4}, {'id': 'Boulatruelle', 'size': 6}, {'id': 'Eponine', 'size': 4}, {'id': 'Anzelma', 'size': 4}, {'id': 'Woman2', 'size': 5}, {'id': 'MotherInnocent', 'size': 0}, {'id': 'Gribier', 'size': 0}, {'id': 'Jondrette', 'size': 7}, {'id': 'Mme.Burgon', 'size': 7}, {'id': 'Gavroche', 'size': 8}, {'id': 'Gillenormand', 'size': 5}, {'id': 'Magnon', 'size': 5}, {'id': 'Mlle.Gillenormand', 'size': 5}, {'id': 'Mme.Pontmercy', 'size': 5}, {'id': 'Mlle.Vaubois', 'size': 5}, {'id': 'Lt.Gillenormand', 'size': 5}, {'id': 'Marius', 'size': 8}, {'id': 'BaronessT', 'size': 5}, {'id': 'Mabeuf', 'size': 8}, {'id': 'Enjolras', 'size': 8}, {'id': 'Combeferre', 'size': 8}, {'id': 'Prouvaire', 'size': 8}, {'id': 'Feuilly', 'size': 8}, {'id': 'Courfeyrac', 'size': 8}, {'id': 'Bahorel', 'size': 8}, {'id': 'Bossuet', 'size': 8}, {'id': 'Joly', 'size': 8}, {'id': 'Grantaire', 'size': 8}, {'id': 'MotherPlutarch', 'size': 9}, {'id': 'Gueulemer', 'size': 4}, {'id': 'Babet', 'size': 4}, {'id': 'Claquesous', 'size': 4}, {'id': 'Montparnasse', 'size': 4}, {'id': 'Toussaint', 'size': 5}, {'id': 'Child1', 'size': 10}, {'id': 'Child2', 'size': 10}, {'id': 'Brujon', 'size': 4}, {'id': 'Mme.Hucheloup', 'size': 8}], 'links': [{'source': 'Napoleon', 'target': 'Myriel', 'weight': 1}, {'source': 'Mlle.Baptistine', 'target': 'Myriel', 'weight': 8}, {'source': 'Mme.Magloire', 'target': 'Myriel', 'weight': 10}, {'source': 'Mme.Magloire', 'target': 'Mlle.Baptistine', 'weight': 6}, {'source': 'CountessdeLo', 'target': 'Myriel', 'weight': 1}, {'source': 'Geborand', 'target': 'Myriel', 'weight': 1}, {'source': 'Champtercier', 'target': 'Myriel', 'weight': 1}, {'source': 'Cravatte', 'target': 'Myriel', 'weight': 1}, {'source': 'Count', 'target': 'Myriel', 'weight': 2}, {'source': 'OldMan', 'target': 'Myriel', 'weight': 1}, {'source': 'Valjean', 'target': 'Labarre', 'weight': 1}, {'source': 'Valjean', 'target': 'Mme.Magloire', 'weight': 3}, {'source': 'Valjean', 'target': 'Mlle.Baptistine', 'weight': 3}, {'source': 'Valjean', 'target': 'Myriel', 'weight': 5}, {'source': 'Marguerite', 'target': 'Valjean', 'weight': 1}, {'source': 'Mme.deR', 'target': 'Valjean', 'weight': 1}, {'source': 'Isabeau', 'target': 'Valjean', 'weight': 1}, {'source': 'Gervais', 'target': 'Valjean', 'weight': 1}, {'source': 'Listolier', 'target': 'Tholomyes', 'weight': 4}, {'source': 'Fameuil', 'target': 'Tholomyes', 'weight': 4}, {'source': 'Fameuil', 'target': 'Listolier', 'weight': 4}, {'source': 'Blacheville', 'target': 'Tholomyes', 'weight': 4}, {'source': 'Blacheville', 'target': 'Listolier', 'weight': 4}, {'source': 'Blacheville', 'target': 'Fameuil', 'weight': 4}, {'source': 'Favourite', 'target': 'Tholomyes', 'weight': 3}, {'source': 'Favourite', 'target': 'Listolier', 'weight': 3}, {'source': 'Favourite', 'target': 'Fameuil', 'weight': 3}, {'source': 'Favourite', 'target': 'Blacheville', 'weight': 4}, {'source': 'Dahlia', 'target': 'Tholomyes', 'weight': 3}, {'source': 'Dahlia', 'target': 'Listolier', 'weight': 3}, {'source': 'Dahlia', 'target': 'Fameuil', 'weight': 3}, {'source': 'Dahlia', 'target': 'Blacheville', 'weight': 3}, {'source': 'Dahlia', 'target': 'Favourite', 'weight': 5}, {'source': 'Zephine', 'target': 'Tholomyes', 'weight': 3}, {'source': 'Zephine', 'target': 'Listolier', 'weight': 3}, {'source': 'Zephine', 'target': 'Fameuil', 'weight': 3}, {'source': 'Zephine', 'target': 'Blacheville', 'weight': 3}, {'source': 'Zephine', 'target': 'Favourite', 'weight': 4}, {'source': 'Zephine', 'target': 'Dahlia', 'weight': 4}, {'source': 'Fantine', 'target': 'Tholomyes', 'weight': 3}, {'source': 'Fantine', 'target': 'Listolier', 'weight': 3}, {'source': 'Fantine', 'target': 'Fameuil', 'weight': 3}, {'source': 'Fantine', 'target': 'Blacheville', 'weight': 3}, {'source': 'Fantine', 'target': 'Favourite', 'weight': 4}, {'source': 'Fantine', 'target': 'Dahlia', 'weight': 4}, {'source': 'Fantine', 'target': 'Zephine', 'weight': 4}, {'source': 'Fantine', 'target': 'Marguerite', 'weight': 2}, {'source': 'Fantine', 'target': 'Valjean', 'weight': 9}, {'source': 'Mme.Thenardier', 'target': 'Fantine', 'weight': 2}, {'source': 'Mme.Thenardier', 'target': 'Valjean', 'weight': 7}, {'source': 'Thenardier', 'target': 'Mme.Thenardier', 'weight': 13}, {'source': 'Thenardier', 'target': 'Fantine', 'weight': 1}, {'source': 'Thenardier', 'target': 'Valjean', 'weight': 12}, {'source': 'Cosette', 'target': 'Mme.Thenardier', 'weight': 4}, {'source': 'Cosette', 'target': 'Valjean', 'weight': 31}, {'source': 'Cosette', 'target': 'Tholomyes', 'weight': 1}, {'source': 'Cosette', 'target': 'Thenardier', 'weight': 1}, {'source': 'Javert', 'target': 'Valjean', 'weight': 17}, {'source': 'Javert', 'target': 'Fantine', 'weight': 5}, {'source': 'Javert', 'target': 'Thenardier', 'weight': 5}, {'source': 'Javert', 'target': 'Mme.Thenardier', 'weight': 1}, {'source': 'Javert', 'target': 'Cosette', 'weight': 1}, {'source': 'Fauchelevent', 'target': 'Valjean', 'weight': 8}, {'source': 'Fauchelevent', 'target': 'Javert', 'weight': 1}, {'source': 'Bamatabois', 'target': 'Fantine', 'weight': 1}, {'source': 'Bamatabois', 'target': 'Javert', 'weight': 1}, {'source': 'Bamatabois', 'target': 'Valjean', 'weight': 2}, {'source': 'Perpetue', 'target': 'Fantine', 'weight': 1}, {'source': 'Simplice', 'target': 'Perpetue', 'weight': 2}, {'source': 'Simplice', 'target': 'Valjean', 'weight': 3}, {'source': 'Simplice', 'target': 'Fantine', 'weight': 2}, {'source': 'Simplice', 'target': 'Javert', 'weight': 1}, {'source': 'Scaufflaire', 'target': 'Valjean', 'weight': 1}, {'source': 'Woman1', 'target': 'Valjean', 'weight': 2}, {'source': 'Woman1', 'target': 'Javert', 'weight': 1}, {'source': 'Judge', 'target': 'Valjean', 'weight': 3}, {'source': 'Judge', 'target': 'Bamatabois', 'weight': 2}, {'source': 'Champmathieu', 'target': 'Valjean', 'weight': 3}, {'source': 'Champmathieu', 'target': 'Judge', 'weight': 3}, {'source': 'Champmathieu', 'target': 'Bamatabois', 'weight': 2}, {'source': 'Brevet', 'target': 'Judge', 'weight': 2}, {'source': 'Brevet', 'target': 'Champmathieu', 'weight': 2}, {'source': 'Brevet', 'target': 'Valjean', 'weight': 2}, {'source': 'Brevet', 'target': 'Bamatabois', 'weight': 1}, {'source': 'Chenildieu', 'target': 'Judge', 'weight': 2}, {'source': 'Chenildieu', 'target': 'Champmathieu', 'weight': 2}, {'source': 'Chenildieu', 'target': 'Brevet', 'weight': 2}, {'source': 'Chenildieu', 'target': 'Valjean', 'weight': 2}, {'source': 'Chenildieu', 'target': 'Bamatabois', 'weight': 1}, {'source': 'Cochepaille', 'target': 'Judge', 'weight': 2}, {'source': 'Cochepaille', 'target': 'Champmathieu', 'weight': 2}, {'source': 'Cochepaille', 'target': 'Brevet', 'weight': 2}, {'source': 'Cochepaille', 'target': 'Chenildieu', 'weight': 2}, {'source': 'Cochepaille', 'target': 'Valjean', 'weight': 2}, {'source': 'Cochepaille', 'target': 'Bamatabois', 'weight': 1}, {'source': 'Pontmercy', 'target': 'Thenardier', 'weight': 1}, {'source': 'Boulatruelle', 'target': 'Thenardier', 'weight': 1}, {'source': 'Eponine', 'target': 'Mme.Thenardier', 'weight': 2}, {'source': 'Eponine', 'target': 'Thenardier', 'weight': 3}, {'source': 'Anzelma', 'target': 'Eponine', 'weight': 2}, {'source': 'Anzelma', 'target': 'Thenardier', 'weight': 2}, {'source': 'Anzelma', 'target': 'Mme.Thenardier', 'weight': 1}, {'source': 'Woman2', 'target': 'Valjean', 'weight': 3}, {'source': 'Woman2', 'target': 'Cosette', 'weight': 1}, {'source': 'Woman2', 'target': 'Javert', 'weight': 1}, {'source': 'MotherInnocent', 'target': 'Fauchelevent', 'weight': 3}, {'source': 'MotherInnocent', 'target': 'Valjean', 'weight': 1}, {'source': 'Gribier', 'target': 'Fauchelevent', 'weight': 2}, {'source': 'Mme.Burgon', 'target': 'Jondrette', 'weight': 1}, {'source': 'Gavroche', 'target': 'Mme.Burgon', 'weight': 2}, {'source': 'Gavroche', 'target': 'Thenardier', 'weight': 1}, {'source': 'Gavroche', 'target': 'Javert', 'weight': 1}, {'source': 'Gavroche', 'target': 'Valjean', 'weight': 1}, {'source': 'Gillenormand', 'target': 'Cosette', 'weight': 3}, {'source': 'Gillenormand', 'target': 'Valjean', 'weight': 2}, {'source': 'Magnon', 'target': 'Gillenormand', 'weight': 1}, {'source': 'Magnon', 'target': 'Mme.Thenardier', 'weight': 1}, {'source': 'Mlle.Gillenormand', 'target': 'Gillenormand', 'weight': 9}, {'source': 'Mlle.Gillenormand', 'target': 'Cosette', 'weight': 2}, {'source': 'Mlle.Gillenormand', 'target': 'Valjean', 'weight': 2}, {'source': 'Mme.Pontmercy', 'target': 'Mlle.Gillenormand', 'weight': 1}, {'source': 'Mme.Pontmercy', 'target': 'Pontmercy', 'weight': 1}, {'source': 'Mlle.Vaubois', 'target': 'Mlle.Gillenormand', 'weight': 1}, {'source': 'Lt.Gillenormand', 'target': 'Mlle.Gillenormand', 'weight': 2}, {'source': 'Lt.Gillenormand', 'target': 'Gillenormand', 'weight': 1}, {'source': 'Lt.Gillenormand', 'target': 'Cosette', 'weight': 1}, {'source': 'Marius', 'target': 'Mlle.Gillenormand', 'weight': 6}, {'source': 'Marius', 'target': 'Gillenormand', 'weight': 12}, {'source': 'Marius', 'target': 'Pontmercy', 'weight': 1}, {'source': 'Marius', 'target': 'Lt.Gillenormand', 'weight': 1}, {'source': 'Marius', 'target': 'Cosette', 'weight': 21}, {'source': 'Marius', 'target': 'Valjean', 'weight': 19}, {'source': 'Marius', 'target': 'Tholomyes', 'weight': 1}, {'source': 'Marius', 'target': 'Thenardier', 'weight': 2}, {'source': 'Marius', 'target': 'Eponine', 'weight': 5}, {'source': 'Marius', 'target': 'Gavroche', 'weight': 4}, {'source': 'BaronessT', 'target': 'Gillenormand', 'weight': 1}, {'source': 'BaronessT', 'target': 'Marius', 'weight': 1}, {'source': 'Mabeuf', 'target': 'Marius', 'weight': 1}, {'source': 'Mabeuf', 'target': 'Eponine', 'weight': 1}, {'source': 'Mabeuf', 'target': 'Gavroche', 'weight': 1}, {'source': 'Enjolras', 'target': 'Marius', 'weight': 7}, {'source': 'Enjolras', 'target': 'Gavroche', 'weight': 7}, {'source': 'Enjolras', 'target': 'Javert', 'weight': 6}, {'source': 'Enjolras', 'target': 'Mabeuf', 'weight': 1}, {'source': 'Enjolras', 'target': 'Valjean', 'weight': 4}, {'source': 'Combeferre', 'target': 'Enjolras', 'weight': 15}, {'source': 'Combeferre', 'target': 'Marius', 'weight': 5}, {'source': 'Combeferre', 'target': 'Gavroche', 'weight': 6}, {'source': 'Combeferre', 'target': 'Mabeuf', 'weight': 2}, {'source': 'Prouvaire', 'target': 'Gavroche', 'weight': 1}, {'source': 'Prouvaire', 'target': 'Enjolras', 'weight': 4}, {'source': 'Prouvaire', 'target': 'Combeferre', 'weight': 2}, {'source': 'Feuilly', 'target': 'Gavroche', 'weight': 2}, {'source': 'Feuilly', 'target': 'Enjolras', 'weight': 6}, {'source': 'Feuilly', 'target': 'Prouvaire', 'weight': 2}, {'source': 'Feuilly', 'target': 'Combeferre', 'weight': 5}, {'source': 'Feuilly', 'target': 'Mabeuf', 'weight': 1}, {'source': 'Feuilly', 'target': 'Marius', 'weight': 1}, {'source': 'Courfeyrac', 'target': 'Marius', 'weight': 9}, {'source': 'Courfeyrac', 'target': 'Enjolras', 'weight': 17}, {'source': 'Courfeyrac', 'target': 'Combeferre', 'weight': 13}, {'source': 'Courfeyrac', 'target': 'Gavroche', 'weight': 7}, {'source': 'Courfeyrac', 'target': 'Mabeuf', 'weight': 2}, {'source': 'Courfeyrac', 'target': 'Eponine', 'weight': 1}, {'source': 'Courfeyrac', 'target': 'Feuilly', 'weight': 6}, {'source': 'Courfeyrac', 'target': 'Prouvaire', 'weight': 3}, {'source': 'Bahorel', 'target': 'Combeferre', 'weight': 5}, {'source': 'Bahorel', 'target': 'Gavroche', 'weight': 5}, {'source': 'Bahorel', 'target': 'Courfeyrac', 'weight': 6}, {'source': 'Bahorel', 'target': 'Mabeuf', 'weight': 2}, {'source': 'Bahorel', 'target': 'Enjolras', 'weight': 4}, {'source': 'Bahorel', 'target': 'Feuilly', 'weight': 3}, {'source': 'Bahorel', 'target': 'Prouvaire', 'weight': 2}, {'source': 'Bahorel', 'target': 'Marius', 'weight': 1}, {'source': 'Bossuet', 'target': 'Marius', 'weight': 5}, {'source': 'Bossuet', 'target': 'Courfeyrac', 'weight': 12}, {'source': 'Bossuet', 'target': 'Gavroche', 'weight': 5}, {'source': 'Bossuet', 'target': 'Bahorel', 'weight': 4}, {'source': 'Bossuet', 'target': 'Enjolras', 'weight': 10}, {'source': 'Bossuet', 'target': 'Feuilly', 'weight': 6}, {'source': 'Bossuet', 'target': 'Prouvaire', 'weight': 2}, {'source': 'Bossuet', 'target': 'Combeferre', 'weight': 9}, {'source': 'Bossuet', 'target': 'Mabeuf', 'weight': 1}, {'source': 'Bossuet', 'target': 'Valjean', 'weight': 1}, {'source': 'Joly', 'target': 'Bahorel', 'weight': 5}, {'source': 'Joly', 'target': 'Bossuet', 'weight': 7}, {'source': 'Joly', 'target': 'Gavroche', 'weight': 3}, {'source': 'Joly', 'target': 'Courfeyrac', 'weight': 5}, {'source': 'Joly', 'target': 'Enjolras', 'weight': 5}, {'source': 'Joly', 'target': 'Feuilly', 'weight': 5}, {'source': 'Joly', 'target': 'Prouvaire', 'weight': 2}, {'source': 'Joly', 'target': 'Combeferre', 'weight': 5}, {'source': 'Joly', 'target': 'Mabeuf', 'weight': 1}, {'source': 'Joly', 'target': 'Marius', 'weight': 2}, {'source': 'Grantaire', 'target': 'Bossuet', 'weight': 3}, {'source': 'Grantaire', 'target': 'Enjolras', 'weight': 3}, {'source': 'Grantaire', 'target': 'Combeferre', 'weight': 1}, {'source': 'Grantaire', 'target': 'Courfeyrac', 'weight': 2}, {'source': 'Grantaire', 'target': 'Joly', 'weight': 2}, {'source': 'Grantaire', 'target': 'Gavroche', 'weight': 1}, {'source': 'Grantaire', 'target': 'Bahorel', 'weight': 1}, {'source': 'Grantaire', 'target': 'Feuilly', 'weight': 1}, {'source': 'Grantaire', 'target': 'Prouvaire', 'weight': 1}, {'source': 'MotherPlutarch', 'target': 'Mabeuf', 'weight': 3}, {'source': 'Gueulemer', 'target': 'Thenardier', 'weight': 5}, {'source': 'Gueulemer', 'target': 'Valjean', 'weight': 1}, {'source': 'Gueulemer', 'target': 'Mme.Thenardier', 'weight': 1}, {'source': 'Gueulemer', 'target': 'Javert', 'weight': 1}, {'source': 'Gueulemer', 'target': 'Gavroche', 'weight': 1}, {'source': 'Gueulemer', 'target': 'Eponine', 'weight': 1}, {'source': 'Babet', 'target': 'Thenardier', 'weight': 6}, {'source': 'Babet', 'target': 'Gueulemer', 'weight': 6}, {'source': 'Babet', 'target': 'Valjean', 'weight': 1}, {'source': 'Babet', 'target': 'Mme.Thenardier', 'weight': 1}, {'source': 'Babet', 'target': 'Javert', 'weight': 2}, {'source': 'Babet', 'target': 'Gavroche', 'weight': 1}, {'source': 'Babet', 'target': 'Eponine', 'weight': 1}, {'source': 'Claquesous', 'target': 'Thenardier', 'weight': 4}, {'source': 'Claquesous', 'target': 'Babet', 'weight': 4}, {'source': 'Claquesous', 'target': 'Gueulemer', 'weight': 4}, {'source': 'Claquesous', 'target': 'Valjean', 'weight': 1}, {'source': 'Claquesous', 'target': 'Mme.Thenardier', 'weight': 1}, {'source': 'Claquesous', 'target': 'Javert', 'weight': 1}, {'source': 'Claquesous', 'target': 'Eponine', 'weight': 1}, {'source': 'Claquesous', 'target': 'Enjolras', 'weight': 1}, {'source': 'Montparnasse', 'target': 'Javert', 'weight': 1}, {'source': 'Montparnasse', 'target': 'Babet', 'weight': 2}, {'source': 'Montparnasse', 'target': 'Gueulemer', 'weight': 2}, {'source': 'Montparnasse', 'target': 'Claquesous', 'weight': 2}, {'source': 'Montparnasse', 'target': 'Valjean', 'weight': 1}, {'source': 'Montparnasse', 'target': 'Gavroche', 'weight': 1}, {'source': 'Montparnasse', 'target': 'Eponine', 'weight': 1}, {'source': 'Montparnasse', 'target': 'Thenardier', 'weight': 1}, {'source': 'Toussaint', 'target': 'Cosette', 'weight': 2}, {'source': 'Toussaint', 'target': 'Javert', 'weight': 1}, {'source': 'Toussaint', 'target': 'Valjean', 'weight': 1}, {'source': 'Child1', 'target': 'Gavroche', 'weight': 2}, {'source': 'Child2', 'target': 'Gavroche', 'weight': 2}, {'source': 'Child2', 'target': 'Child1', 'weight': 3}, {'source': 'Brujon', 'target': 'Babet', 'weight': 3}, {'source': 'Brujon', 'target': 'Gueulemer', 'weight': 3}, {'source': 'Brujon', 'target': 'Thenardier', 'weight': 3}, {'source': 'Brujon', 'target': 'Gavroche', 'weight': 1}, {'source': 'Brujon', 'target': 'Eponine', 'weight': 1}, {'source': 'Brujon', 'target': 'Claquesous', 'weight': 1}, {'source': 'Brujon', 'target': 'Montparnasse', 'weight': 1}, {'source': 'Mme.Hucheloup', 'target': 'Bossuet', 'weight': 1}, {'source': 'Mme.Hucheloup', 'target': 'Joly', 'weight': 1}, {'source': 'Mme.Hucheloup', 'target': 'Grantaire', 'weight': 1}, {'source': 'Mme.Hucheloup', 'target': 'Bahorel', 'weight': 1}, {'source': 'Mme.Hucheloup', 'target': 'Courfeyrac', 'weight': 1}, {'source': 'Mme.Hucheloup', 'target': 'Gavroche', 'weight': 1}, {'source': 'Mme.Hucheloup', 'target': 'Enjolras', 'weight': 1}]}\n"
     ]
    },
    {
     "data": {
      "text/plain": [
       "(None, None)"
      ]
     },
     "execution_count": 20,
     "metadata": {},
     "output_type": "execute_result"
    }
   ],
   "source": [
    "### Test data from netwulf ###\n",
    "with open(\"./miserables.json\", \"r\") as jsonfile:\n",
    "    allstring = \"\"\n",
    "    for line in jsonfile:\n",
    "        allstring += line.rstrip()\n",
    "data = json.loads(allstring)\n",
    "print(data)\n",
    "nx.visualize(data)"
   ]
  },
  {
   "cell_type": "code",
   "execution_count": null,
   "metadata": {},
   "outputs": [
    {
     "name": "stdout",
     "output_type": "stream",
     "text": [
      "##### Splitting label and cluster dict #####\n",
      "['enrich_label1', {'prot1': {'prot2': 2}}]\n",
      "['enrich_label2', {'prot2': {'prot3': 2}}]\n",
      "['enrich_label3', {'prot3': {'prot1': 2}}]\n",
      "['enrich_labe14', {'prot4': {'prot2': 2}}]\n",
      "##### Adding nodes to graph #####\n",
      "--- Node collected: prot1 ---\n",
      "--- Node collected: prot2 ---\n",
      "--- Node collected: prot3 ---\n",
      "--- Node collected: prot4 ---\n",
      "##### Adding edges to graph #####\n",
      "--- Edge added between: ('prot1', 'prot2') ---\n",
      "--- Edge added between: ('prot2', 'prot3') ---\n",
      "--- Edge added between: ('prot3', 'prot1') ---\n",
      "--- Edge added between: ('prot4', 'prot2') ---\n",
      "Graph named 'PPI_GraphNetwork' with 4 nodes and 4 edges\n"
     ]
    },
    {
     "data": {
      "text/plain": [
       "(None, None)"
      ]
     },
     "execution_count": 2,
     "metadata": {},
     "output_type": "execute_result"
    }
   ],
   "source": [
    "### Our data format ###\n",
    "# clusters = [ [Enrichment label, {\"prot1\": {\"prot2\" : edge_score} } ] , [Enrichment label, {\"prot1\": {\"prot2\" : edge_score} } ] ...]\n",
    "test_data = [[\"enrich_label1\", {\"prot1\": {\"prot2\" : 2}}], [\"enrich_label2\", {\"prot2\": {\"prot3\" : 2}}], [\"enrich_label3\", {\"prot3\": {\"prot1\" : 2}}], [\"enrich_labe14\", {\"prot4\": {\"prot2\" : 2}}]]\n",
    "\n",
    "network = f.construct_graph(test_data, debug_mode=True)\n",
    "print(network)\n",
    "wulf.visualize(network)"
   ]
  },
  {
   "cell_type": "code",
   "execution_count": null,
   "metadata": {},
   "outputs": [],
   "source": []
  }
 ],
 "metadata": {
  "kernelspec": {
   "display_name": "Python 3",
   "language": "python",
   "name": "python3"
  },
  "language_info": {
   "codemirror_mode": {
    "name": "ipython",
    "version": 3
   },
   "file_extension": ".py",
   "mimetype": "text/x-python",
   "name": "python",
   "nbconvert_exporter": "python",
   "pygments_lexer": "ipython3",
   "version": "3.9.6"
  }
 },
 "nbformat": 4,
 "nbformat_minor": 2
}
